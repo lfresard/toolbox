{
  "nbformat": 4,
  "nbformat_minor": 0,
  "metadata": {
    "colab": {
      "name": "Prioritization",
      "provenance": [],
      "collapsed_sections": [],
      "toc_visible": true,
      "include_colab_link": true
    },
    "language_info": {
      "codemirror_mode": "r",
      "file_extension": ".r",
      "mimetype": "text/x-r-source",
      "name": "R",
      "pygments_lexer": "r",
      "version": "3.3.1"
    },
    "kernelspec": {
      "display_name": "R",
      "language": "R",
      "name": "ir"
    }
  },
  "cells": [
    {
      "cell_type": "markdown",
      "metadata": {
        "id": "view-in-github",
        "colab_type": "text"
      },
      "source": [
        "<a href=\"https://colab.research.google.com/github/lfresard/toolbox/blob/master/Candidate_Gene_Prioritization.ipynb\" target=\"_parent\"><img src=\"https://colab.research.google.com/assets/colab-badge.svg\" alt=\"Open In Colab\"/></a>"
      ]
    },
    {
      "cell_type": "markdown",
      "metadata": {
        "id": "zpKzgRL8PTxG",
        "colab_type": "text"
      },
      "source": [
        "# Gene prioritization\n",
        "\n",
        "A hands-on rare disease diagnostic workshop on RNA-seq data @ ASHG19\n",
        "\n",
        "---\n",
        "\n",
        "\n",
        "\n"
      ]
    },
    {
      "cell_type": "markdown",
      "metadata": {
        "id": "hhYgSeJhqc3V",
        "colab_type": "text"
      },
      "source": [
        "## Setup the notebook\n",
        "\n",
        "To get started we have to setup this IR notebook @ Colab. To do so please run the following code snippet.\n",
        "This will download all nessesary software packages for this tutorial. Also it will download the example data sets used throughout this tutorial.\n"
      ]
    },
    {
      "cell_type": "code",
      "metadata": {
        "id": "m_6kSl1xqj3U",
        "colab_type": "code",
        "outputId": "a333fc29-32c9-45bf-c62b-139acbdb8172",
        "colab": {
          "base_uri": "https://localhost:8080/",
          "height": 85
        }
      },
      "source": [
        "download.file(\"https://raw.githubusercontent.com/c-mertes/RNAseq-ASHG19/master/r-env-setup-script.R\", \"r-env-setup-script.R\")\n",
        "source(\"r-env-setup-script.R\")"
      ],
      "execution_count": 1,
      "outputs": [
        {
          "output_type": "stream",
          "text": [
            "Update and install needed Ubuntu packages\n",
            "Download R package cache\n",
            "Unzipping R package cache\n",
            "Retrieve data for tutorials\n"
          ],
          "name": "stderr"
        }
      ]
    },
    {
      "cell_type": "markdown",
      "metadata": {
        "id": "UT8by03x-VX7",
        "colab_type": "text"
      },
      "source": [
        "## Set up working session\n",
        "---\n",
        "\n",
        "First a few packages need to be loaded. \\\\\n",
        "(1) `VariantAnnotation`: annotate variants, compute amino acid coding changes, predict coding outcomes. \\\\\n",
        "(2) `TVTB`: filter, summarise and visualise genetic variation data stored in VCF files. \\\\\n",
        "(3) `annotables`: annotating/converting Gene IDs. \\\\\n",
        "(4) `tidyverse`: collection of packages designed for data science \\\\\n",
        "(5) `data.table`: data manipulation operations "
      ]
    },
    {
      "cell_type": "code",
      "metadata": {
        "id": "DASLb47cVDCK",
        "colab_type": "code",
        "outputId": "ae4726d6-c494-4e43-978f-2e4bc6a2d0ea",
        "colab": {
          "base_uri": "https://localhost:8080/",
          "height": 1000
        }
      },
      "source": [
        "library(VariantAnnotation)\n",
        "library(TVTB)\n",
        "library(annotables)\n",
        "library(tidyverse)\n",
        "library(data.table)\n"
      ],
      "execution_count": 2,
      "outputs": [
        {
          "output_type": "stream",
          "text": [
            "Loading required package: BiocGenerics\n",
            "Loading required package: parallel\n",
            "\n",
            "Attaching package: ‘BiocGenerics’\n",
            "\n",
            "The following objects are masked from ‘package:parallel’:\n",
            "\n",
            "    clusterApply, clusterApplyLB, clusterCall, clusterEvalQ,\n",
            "    clusterExport, clusterMap, parApply, parCapply, parLapply,\n",
            "    parLapplyLB, parRapply, parSapply, parSapplyLB\n",
            "\n",
            "The following objects are masked from ‘package:stats’:\n",
            "\n",
            "    IQR, mad, sd, var, xtabs\n",
            "\n",
            "The following objects are masked from ‘package:base’:\n",
            "\n",
            "    anyDuplicated, append, as.data.frame, basename, cbind, colnames,\n",
            "    dirname, do.call, duplicated, eval, evalq, Filter, Find, get, grep,\n",
            "    grepl, intersect, is.unsorted, lapply, Map, mapply, match, mget,\n",
            "    order, paste, pmax, pmax.int, pmin, pmin.int, Position, rank,\n",
            "    rbind, Reduce, rownames, sapply, setdiff, sort, table, tapply,\n",
            "    union, unique, unsplit, which, which.max, which.min\n",
            "\n",
            "Loading required package: GenomeInfoDb\n",
            "Loading required package: S4Vectors\n",
            "Loading required package: stats4\n",
            "\n",
            "Attaching package: ‘S4Vectors’\n",
            "\n",
            "The following object is masked from ‘package:base’:\n",
            "\n",
            "    expand.grid\n",
            "\n",
            "Loading required package: IRanges\n",
            "Loading required package: GenomicRanges\n",
            "Loading required package: SummarizedExperiment\n",
            "Loading required package: Biobase\n",
            "Welcome to Bioconductor\n",
            "\n",
            "    Vignettes contain introductory material; view with\n",
            "    'browseVignettes()'. To cite Bioconductor, see\n",
            "    'citation(\"Biobase\")', and for packages 'citation(\"pkgname\")'.\n",
            "\n",
            "Loading required package: DelayedArray\n",
            "Loading required package: matrixStats\n",
            "\n",
            "Attaching package: ‘matrixStats’\n",
            "\n",
            "The following objects are masked from ‘package:Biobase’:\n",
            "\n",
            "    anyMissing, rowMedians\n",
            "\n",
            "Loading required package: BiocParallel\n",
            "\n",
            "Attaching package: ‘DelayedArray’\n",
            "\n",
            "The following objects are masked from ‘package:matrixStats’:\n",
            "\n",
            "    colMaxs, colMins, colRanges, rowMaxs, rowMins, rowRanges\n",
            "\n",
            "The following objects are masked from ‘package:base’:\n",
            "\n",
            "    aperm, apply, rowsum\n",
            "\n",
            "Loading required package: Rsamtools\n",
            "Loading required package: Biostrings\n",
            "Loading required package: XVector\n",
            "\n",
            "Attaching package: ‘Biostrings’\n",
            "\n",
            "The following object is masked from ‘package:DelayedArray’:\n",
            "\n",
            "    type\n",
            "\n",
            "The following object is masked from ‘package:base’:\n",
            "\n",
            "    strsplit\n",
            "\n",
            "\n",
            "Attaching package: ‘VariantAnnotation’\n",
            "\n",
            "The following object is masked from ‘package:base’:\n",
            "\n",
            "    tabulate\n",
            "\n",
            "Registered S3 method overwritten by 'GGally':\n",
            "  method from   \n",
            "  +.gg   ggplot2\n",
            "── \u001b[1mAttaching packages\u001b[22m ─────────────────────────────────────── tidyverse 1.2.1 ──\n",
            "\u001b[32m✔\u001b[39m \u001b[34mggplot2\u001b[39m 3.2.1     \u001b[32m✔\u001b[39m \u001b[34mpurrr  \u001b[39m 0.3.2\n",
            "\u001b[32m✔\u001b[39m \u001b[34mtibble \u001b[39m 2.1.3     \u001b[32m✔\u001b[39m \u001b[34mdplyr  \u001b[39m 0.8.3\n",
            "\u001b[32m✔\u001b[39m \u001b[34mtidyr  \u001b[39m 1.0.0     \u001b[32m✔\u001b[39m \u001b[34mstringr\u001b[39m 1.4.0\n",
            "\u001b[32m✔\u001b[39m \u001b[34mreadr  \u001b[39m 1.3.1     \u001b[32m✔\u001b[39m \u001b[34mforcats\u001b[39m 0.4.0\n",
            "── \u001b[1mConflicts\u001b[22m ────────────────────────────────────────── tidyverse_conflicts() ──\n",
            "\u001b[31m✖\u001b[39m \u001b[34mdplyr\u001b[39m::\u001b[32mcollapse()\u001b[39m   masks \u001b[34mBiostrings\u001b[39m::collapse(), \u001b[34mIRanges\u001b[39m::collapse()\n",
            "\u001b[31m✖\u001b[39m \u001b[34mdplyr\u001b[39m::\u001b[32mcombine()\u001b[39m    masks \u001b[34mBiobase\u001b[39m::combine(), \u001b[34mBiocGenerics\u001b[39m::combine()\n",
            "\u001b[31m✖\u001b[39m \u001b[34mpurrr\u001b[39m::\u001b[32mcompact()\u001b[39m    masks \u001b[34mXVector\u001b[39m::compact()\n",
            "\u001b[31m✖\u001b[39m \u001b[34mdplyr\u001b[39m::\u001b[32mcount()\u001b[39m      masks \u001b[34mmatrixStats\u001b[39m::count()\n",
            "\u001b[31m✖\u001b[39m \u001b[34mdplyr\u001b[39m::\u001b[32mdesc()\u001b[39m       masks \u001b[34mIRanges\u001b[39m::desc()\n",
            "\u001b[31m✖\u001b[39m \u001b[34mtidyr\u001b[39m::\u001b[32mexpand()\u001b[39m     masks \u001b[34mVariantAnnotation\u001b[39m::expand(), \u001b[34mS4Vectors\u001b[39m::expand()\n",
            "\u001b[31m✖\u001b[39m \u001b[34mdplyr\u001b[39m::\u001b[32mfilter()\u001b[39m     masks \u001b[34mstats\u001b[39m::filter()\n",
            "\u001b[31m✖\u001b[39m \u001b[34mdplyr\u001b[39m::\u001b[32mfirst()\u001b[39m      masks \u001b[34mS4Vectors\u001b[39m::first()\n",
            "\u001b[31m✖\u001b[39m \u001b[34mstringr\u001b[39m::\u001b[32mfixed()\u001b[39m    masks \u001b[34mTVTB\u001b[39m::fixed(), \u001b[34mVariantAnnotation\u001b[39m::fixed()\n",
            "\u001b[31m✖\u001b[39m \u001b[34mdplyr\u001b[39m::\u001b[32mlag()\u001b[39m        masks \u001b[34mstats\u001b[39m::lag()\n",
            "\u001b[31m✖\u001b[39m \u001b[34mggplot2\u001b[39m::\u001b[32mPosition()\u001b[39m masks \u001b[34mBiocGenerics\u001b[39m::Position(), \u001b[34mbase\u001b[39m::Position()\n",
            "\u001b[31m✖\u001b[39m \u001b[34mpurrr\u001b[39m::\u001b[32mreduce()\u001b[39m     masks \u001b[34mGenomicRanges\u001b[39m::reduce(), \u001b[34mIRanges\u001b[39m::reduce()\n",
            "\u001b[31m✖\u001b[39m \u001b[34mdplyr\u001b[39m::\u001b[32mrename()\u001b[39m     masks \u001b[34mS4Vectors\u001b[39m::rename()\n",
            "\u001b[31m✖\u001b[39m \u001b[34mdplyr\u001b[39m::\u001b[32mselect()\u001b[39m     masks \u001b[34mVariantAnnotation\u001b[39m::select()\n",
            "\u001b[31m✖\u001b[39m \u001b[34mpurrr\u001b[39m::\u001b[32msimplify()\u001b[39m   masks \u001b[34mDelayedArray\u001b[39m::simplify()\n",
            "\u001b[31m✖\u001b[39m \u001b[34mdplyr\u001b[39m::\u001b[32mslice()\u001b[39m      masks \u001b[34mXVector\u001b[39m::slice(), \u001b[34mIRanges\u001b[39m::slice()\n",
            "\n",
            "Attaching package: 'data.table'\n",
            "\n",
            "The following objects are masked from 'package:dplyr':\n",
            "\n",
            "    between, first, last\n",
            "\n",
            "The following object is masked from 'package:purrr':\n",
            "\n",
            "    transpose\n",
            "\n",
            "The following object is masked from 'package:SummarizedExperiment':\n",
            "\n",
            "    shift\n",
            "\n",
            "The following object is masked from 'package:GenomicRanges':\n",
            "\n",
            "    shift\n",
            "\n",
            "The following object is masked from 'package:IRanges':\n",
            "\n",
            "    shift\n",
            "\n",
            "The following objects are masked from 'package:S4Vectors':\n",
            "\n",
            "    first, second\n",
            "\n"
          ],
          "name": "stderr"
        }
      ]
    },
    {
      "cell_type": "markdown",
      "metadata": {
        "id": "-HmoGrv8VChf",
        "colab_type": "text"
      },
      "source": [
        "\n",
        "**It is not uncommon to have more than one candidate outlier gene when looking at expression, splicing or allele specific events. It is useful to kown that there are ways to prioritize those genes.\n",
        "Here we will see how coming back to phenotype and genotype data can help reduce the list of candidates in a case informed way.** \n",
        "\n",
        "\n",
        "## Case 1\n",
        "This boy was the third child of healthy non-consanguineous French parents. Pregnancy and delivery were uneventful. Early psychomotor development was normal. However, speech development was delayed, acquiring language at the age of 4. At 11, he began to experience psychomotor regression and progressive visual loss. At current (by the time of the publication) age of 47, he has severe walking difficulties, blindness, abnormal behaviour (easily frightened, sometimes aggressive) and spontaneous speech.\n",
        "\n",
        "In our dataset, this sample is named **NA11918**\n",
        "\n",
        "### Get list of candidate genes from OUTRIDER\n",
        "Here we download the list of outlier gene that you generated using OUTRIDER in an earlier session."
      ]
    },
    {
      "cell_type": "code",
      "metadata": {
        "id": "eQli_QjIV48O",
        "colab_type": "code",
        "outputId": "a2d691d5-f493-45c3-f878-1b9678cd3831",
        "colab": {
          "base_uri": "https://localhost:8080/",
          "height": 354
        }
      },
      "source": [
        "# Download list of candidates\n",
        "outrider_results_genes=fread(\"https://i12g-gagneurweb.in.tum.de/public/workshops/RNAseq_ASHG19/input_data/outrider/results_pvalue.tsv.gz\", drop=1)\n",
        "\n",
        "# Filter for the case of interest\n",
        "outrider_results_genes=outrider_results_genes%>%filter(sampleID==\"NA11918\") %>% select(geneID) %>% unlist\n",
        "\n",
        "# Take a look at what the genes list look like\n",
        "print(\"This is what the output looks like\")\n",
        "head(outrider_results_genes)\n",
        "\n",
        "# Get the number of candidate genes for that case\n",
        "print(\"In total there are this many candidate genes for this case\")\n",
        "length(outrider_results_genes)\n"
      ],
      "execution_count": 4,
      "outputs": [
        {
          "output_type": "stream",
          "text": [
            "Warning message in fread(\"https://i12g-gagneurweb.in.tum.de/public/workshops/RNAseq_ASHG19/input_data/outrider/results_pvalue.tsv.gz\", :\n",
            "\"Detected 14 column names but the data has 15 columns (i.e. invalid file). Added 1 extra default column name for the first column which is guessed to be row names or an index. Use setnames() afterwards if this guess is not correct, or fix the file write command that created the file to create a valid file.\""
          ],
          "name": "stderr"
        },
        {
          "output_type": "stream",
          "text": [
            "[1] \"This is what the output looks like\"\n"
          ],
          "name": "stdout"
        },
        {
          "output_type": "display_data",
          "data": {
            "text/plain": [
              "               geneID1                geneID2                geneID3 \n",
              "\"ENSG00000165288.10_2\" \"ENSG00000179715.12_4\" \"ENSG00000146021.14_4\" \n",
              "               geneID4                geneID5                geneID6 \n",
              "\"ENSG00000047932.13_4\"  \"ENSG00000115825.9_2\" \"ENSG00000119772.16_3\" "
            ],
            "text/latex": "\\begin{description*}\n\\item[geneID1] 'ENSG00000165288.10\\_2'\n\\item[geneID2] 'ENSG00000179715.12\\_4'\n\\item[geneID3] 'ENSG00000146021.14\\_4'\n\\item[geneID4] 'ENSG00000047932.13\\_4'\n\\item[geneID5] 'ENSG00000115825.9\\_2'\n\\item[geneID6] 'ENSG00000119772.16\\_3'\n\\end{description*}\n",
            "text/markdown": "geneID1\n:   'ENSG00000165288.10_2'geneID2\n:   'ENSG00000179715.12_4'geneID3\n:   'ENSG00000146021.14_4'geneID4\n:   'ENSG00000047932.13_4'geneID5\n:   'ENSG00000115825.9_2'geneID6\n:   'ENSG00000119772.16_3'\n\n",
            "text/html": [
              "<dl class=dl-horizontal>\n",
              "\t<dt>geneID1</dt>\n",
              "\t\t<dd>'ENSG00000165288.10_2'</dd>\n",
              "\t<dt>geneID2</dt>\n",
              "\t\t<dd>'ENSG00000179715.12_4'</dd>\n",
              "\t<dt>geneID3</dt>\n",
              "\t\t<dd>'ENSG00000146021.14_4'</dd>\n",
              "\t<dt>geneID4</dt>\n",
              "\t\t<dd>'ENSG00000047932.13_4'</dd>\n",
              "\t<dt>geneID5</dt>\n",
              "\t\t<dd>'ENSG00000115825.9_2'</dd>\n",
              "\t<dt>geneID6</dt>\n",
              "\t\t<dd>'ENSG00000119772.16_3'</dd>\n",
              "</dl>\n"
            ]
          },
          "metadata": {
            "tags": []
          }
        },
        {
          "output_type": "stream",
          "text": [
            "[1] \"In total there are this many candidate genes for this case\"\n"
          ],
          "name": "stdout"
        },
        {
          "output_type": "display_data",
          "data": {
            "text/plain": [
              "[1] 22"
            ],
            "text/latex": "22",
            "text/markdown": "22",
            "text/html": [
              "22"
            ]
          },
          "metadata": {
            "tags": []
          }
        }
      ]
    },
    {
      "cell_type": "markdown",
      "metadata": {
        "id": "RUcP3hHvP866",
        "colab_type": "text"
      },
      "source": [
        "You can see that the gene names are not totally in an Ensembl format. The gene names need to be reformated so that we keep only the official gene name in our analyses."
      ]
    },
    {
      "cell_type": "code",
      "metadata": {
        "id": "rQeXEskjQEk8",
        "colab_type": "code",
        "outputId": "46fa95b6-edfc-4f98-d324-805c73c0ab89",
        "colab": {
          "base_uri": "https://localhost:8080/",
          "height": 164
        }
      },
      "source": [
        "# Modify gene format\n",
        "outrider_results_genes=str_extract(outrider_results_genes, \"ENSG[0-9]+\")\n",
        "\n",
        "\n",
        "# Look at the changes\n",
        "print(\"This is what the output looks like\")\n",
        "head(outrider_results_genes)\n"
      ],
      "execution_count": 5,
      "outputs": [
        {
          "output_type": "stream",
          "text": [
            "[1] \"This is what the output looks like\"\n"
          ],
          "name": "stdout"
        },
        {
          "output_type": "display_data",
          "data": {
            "text/plain": [
              "[1] \"ENSG00000165288\" \"ENSG00000179715\" \"ENSG00000146021\" \"ENSG00000047932\"\n",
              "[5] \"ENSG00000115825\" \"ENSG00000119772\""
            ],
            "text/latex": "\\begin{enumerate*}\n\\item 'ENSG00000165288'\n\\item 'ENSG00000179715'\n\\item 'ENSG00000146021'\n\\item 'ENSG00000047932'\n\\item 'ENSG00000115825'\n\\item 'ENSG00000119772'\n\\end{enumerate*}\n",
            "text/markdown": "1. 'ENSG00000165288'\n2. 'ENSG00000179715'\n3. 'ENSG00000146021'\n4. 'ENSG00000047932'\n5. 'ENSG00000115825'\n6. 'ENSG00000119772'\n\n\n",
            "text/html": [
              "<ol class=list-inline>\n",
              "\t<li>'ENSG00000165288'</li>\n",
              "\t<li>'ENSG00000179715'</li>\n",
              "\t<li>'ENSG00000146021'</li>\n",
              "\t<li>'ENSG00000047932'</li>\n",
              "\t<li>'ENSG00000115825'</li>\n",
              "\t<li>'ENSG00000119772'</li>\n",
              "</ol>\n"
            ]
          },
          "metadata": {
            "tags": []
          }
        }
      ]
    },
    {
      "cell_type": "markdown",
      "metadata": {
        "id": "-2Y9fpquSE9L",
        "colab_type": "text"
      },
      "source": [
        "Now the gene name correspond to the official Ensembl symbols. It is possible to get a bit more information on those. \n",
        "In particular we can easily obtain their symbol and description using the package ` annotable `.\n"
      ]
    },
    {
      "cell_type": "code",
      "metadata": {
        "id": "7pvzOio8SLk1",
        "colab_type": "code",
        "outputId": "49516d72-371e-4b84-be3e-1221ad7e100b",
        "colab": {
          "base_uri": "https://localhost:8080/",
          "height": 221
        }
      },
      "source": [
        "# Query annotable Grch37 object and keep only genes that are in the list of outliers\n",
        "candidate_genes=grch37 %>% filter(ensgene %in% outrider_results_genes)\n",
        "\n",
        "# Look at the results\n",
        "print(\"This is what the output looks like\")\n",
        "head(candidate_genes)"
      ],
      "execution_count": 6,
      "outputs": [
        {
          "output_type": "stream",
          "text": [
            "[1] \"This is what the output looks like\"\n"
          ],
          "name": "stdout"
        },
        {
          "output_type": "display_data",
          "data": {
            "text/plain": [
              "  ensgene         entrez symbol chr start     end       strand biotype       \n",
              "1 ENSG00000047932 57120  GOPC   6   117639374 117923691 -1     protein_coding\n",
              "2 ENSG00000074706 26034  IPCEF1 6   154475631 154677926 -1     protein_coding\n",
              "3 ENSG00000090674 57192  MCOLN1 19    7587512   7598895  1     protein_coding\n",
              "4 ENSG00000091490 23231  SEL1L3 4    25749055  25865382 -1     protein_coding\n",
              "5 ENSG00000101096  4773  NFATC2 20   50003494  50179370 -1     protein_coding\n",
              "6 ENSG00000115825 23683  PRKD3  2    37477645  37551951 -1     protein_coding\n",
              "  description                                                                                            \n",
              "1 golgi-associated PDZ and coiled-coil motif containing [Source:HGNC Symbol;Acc:17643]                   \n",
              "2 interaction protein for cytohesin exchange factors 1 [Source:HGNC Symbol;Acc:21204]                    \n",
              "3 mucolipin 1 [Source:HGNC Symbol;Acc:13356]                                                             \n",
              "4 sel-1 suppressor of lin-12-like 3 (C. elegans) [Source:HGNC Symbol;Acc:29108]                          \n",
              "5 nuclear factor of activated T-cells, cytoplasmic, calcineurin-dependent 2 [Source:HGNC Symbol;Acc:7776]\n",
              "6 protein kinase D3 [Source:HGNC Symbol;Acc:9408]                                                        "
            ],
            "text/latex": "A tibble: 6 × 9\n\\begin{tabular}{r|lllllllll}\n ensgene & entrez & symbol & chr & start & end & strand & biotype & description\\\\\n <chr> & <int> & <chr> & <chr> & <int> & <int> & <int> & <chr> & <chr>\\\\\n\\hline\n\t ENSG00000047932 & 57120 & GOPC   & 6  & 117639374 & 117923691 & -1 & protein\\_coding & golgi-associated PDZ and coiled-coil motif containing {[}Source:HGNC Symbol;Acc:17643{]}                   \\\\\n\t ENSG00000074706 & 26034 & IPCEF1 & 6  & 154475631 & 154677926 & -1 & protein\\_coding & interaction protein for cytohesin exchange factors 1 {[}Source:HGNC Symbol;Acc:21204{]}                    \\\\\n\t ENSG00000090674 & 57192 & MCOLN1 & 19 &   7587512 &   7598895 &  1 & protein\\_coding & mucolipin 1 {[}Source:HGNC Symbol;Acc:13356{]}                                                             \\\\\n\t ENSG00000091490 & 23231 & SEL1L3 & 4  &  25749055 &  25865382 & -1 & protein\\_coding & sel-1 suppressor of lin-12-like 3 (C. elegans) {[}Source:HGNC Symbol;Acc:29108{]}                          \\\\\n\t ENSG00000101096 &  4773 & NFATC2 & 20 &  50003494 &  50179370 & -1 & protein\\_coding & nuclear factor of activated T-cells, cytoplasmic, calcineurin-dependent 2 {[}Source:HGNC Symbol;Acc:7776{]}\\\\\n\t ENSG00000115825 & 23683 & PRKD3  & 2  &  37477645 &  37551951 & -1 & protein\\_coding & protein kinase D3 {[}Source:HGNC Symbol;Acc:9408{]}                                                        \\\\\n\\end{tabular}\n",
            "text/markdown": "\nA tibble: 6 × 9\n\n| ensgene &lt;chr&gt; | entrez &lt;int&gt; | symbol &lt;chr&gt; | chr &lt;chr&gt; | start &lt;int&gt; | end &lt;int&gt; | strand &lt;int&gt; | biotype &lt;chr&gt; | description &lt;chr&gt; |\n|---|---|---|---|---|---|---|---|---|\n| ENSG00000047932 | 57120 | GOPC   | 6  | 117639374 | 117923691 | -1 | protein_coding | golgi-associated PDZ and coiled-coil motif containing [Source:HGNC Symbol;Acc:17643]                    |\n| ENSG00000074706 | 26034 | IPCEF1 | 6  | 154475631 | 154677926 | -1 | protein_coding | interaction protein for cytohesin exchange factors 1 [Source:HGNC Symbol;Acc:21204]                     |\n| ENSG00000090674 | 57192 | MCOLN1 | 19 |   7587512 |   7598895 |  1 | protein_coding | mucolipin 1 [Source:HGNC Symbol;Acc:13356]                                                              |\n| ENSG00000091490 | 23231 | SEL1L3 | 4  |  25749055 |  25865382 | -1 | protein_coding | sel-1 suppressor of lin-12-like 3 (C. elegans) [Source:HGNC Symbol;Acc:29108]                           |\n| ENSG00000101096 |  4773 | NFATC2 | 20 |  50003494 |  50179370 | -1 | protein_coding | nuclear factor of activated T-cells, cytoplasmic, calcineurin-dependent 2 [Source:HGNC Symbol;Acc:7776] |\n| ENSG00000115825 | 23683 | PRKD3  | 2  |  37477645 |  37551951 | -1 | protein_coding | protein kinase D3 [Source:HGNC Symbol;Acc:9408]                                                         |\n\n",
            "text/html": [
              "<table>\n",
              "<caption>A tibble: 6 × 9</caption>\n",
              "<thead>\n",
              "\t<tr><th scope=col>ensgene</th><th scope=col>entrez</th><th scope=col>symbol</th><th scope=col>chr</th><th scope=col>start</th><th scope=col>end</th><th scope=col>strand</th><th scope=col>biotype</th><th scope=col>description</th></tr>\n",
              "\t<tr><th scope=col>&lt;chr&gt;</th><th scope=col>&lt;int&gt;</th><th scope=col>&lt;chr&gt;</th><th scope=col>&lt;chr&gt;</th><th scope=col>&lt;int&gt;</th><th scope=col>&lt;int&gt;</th><th scope=col>&lt;int&gt;</th><th scope=col>&lt;chr&gt;</th><th scope=col>&lt;chr&gt;</th></tr>\n",
              "</thead>\n",
              "<tbody>\n",
              "\t<tr><td>ENSG00000047932</td><td>57120</td><td>GOPC  </td><td>6 </td><td>117639374</td><td>117923691</td><td>-1</td><td>protein_coding</td><td>golgi-associated PDZ and coiled-coil motif containing [Source:HGNC Symbol;Acc:17643]                   </td></tr>\n",
              "\t<tr><td>ENSG00000074706</td><td>26034</td><td>IPCEF1</td><td>6 </td><td>154475631</td><td>154677926</td><td>-1</td><td>protein_coding</td><td>interaction protein for cytohesin exchange factors 1 [Source:HGNC Symbol;Acc:21204]                    </td></tr>\n",
              "\t<tr><td>ENSG00000090674</td><td>57192</td><td>MCOLN1</td><td>19</td><td>  7587512</td><td>  7598895</td><td> 1</td><td>protein_coding</td><td>mucolipin 1 [Source:HGNC Symbol;Acc:13356]                                                             </td></tr>\n",
              "\t<tr><td>ENSG00000091490</td><td>23231</td><td>SEL1L3</td><td>4 </td><td> 25749055</td><td> 25865382</td><td>-1</td><td>protein_coding</td><td>sel-1 suppressor of lin-12-like 3 (C. elegans) [Source:HGNC Symbol;Acc:29108]                          </td></tr>\n",
              "\t<tr><td>ENSG00000101096</td><td> 4773</td><td>NFATC2</td><td>20</td><td> 50003494</td><td> 50179370</td><td>-1</td><td>protein_coding</td><td>nuclear factor of activated T-cells, cytoplasmic, calcineurin-dependent 2 [Source:HGNC Symbol;Acc:7776]</td></tr>\n",
              "\t<tr><td>ENSG00000115825</td><td>23683</td><td>PRKD3 </td><td>2 </td><td> 37477645</td><td> 37551951</td><td>-1</td><td>protein_coding</td><td>protein kinase D3 [Source:HGNC Symbol;Acc:9408]                                                        </td></tr>\n",
              "</tbody>\n",
              "</table>\n"
            ]
          },
          "metadata": {
            "tags": []
          }
        }
      ]
    },
    {
      "cell_type": "markdown",
      "metadata": {
        "id": "PEZN3AVWQcIU",
        "colab_type": "text"
      },
      "source": [
        "We now have the list of candidate genes and a bit more information on what they are. We are ready to filter this list to keep only the genes that are linked to the symptoms of the case of interest.\n",
        "\n",
        "In our case, symptoms are:\n",
        "* Developmental regression (HP:0002376)\n",
        "* Ataxia(HP:0001251)\n",
        "* Ophthalmoplegia (HP:0000602)\n",
        "* Visual impairment (HP:0000505)\n",
        "As you can see, there is a code beside each symptom. Those are HPO terms IDs, as found in the Human Phenotype Ontology database (https://hpo.jax.org/app/).\n"
      ]
    },
    {
      "cell_type": "markdown",
      "metadata": {
        "id": "4m8c3CCMcshl",
        "colab_type": "text"
      },
      "source": [
        "### Annotate candidate genes with HPO terms\n",
        "#### Read in sample phenotype metadata\n"
      ]
    },
    {
      "cell_type": "code",
      "metadata": {
        "id": "YsO_jEvEcohH",
        "colab_type": "code",
        "colab": {}
      },
      "source": [
        "# We define the list of HPO terms IDs for the case\n",
        "sample_HPO=c(\"HP:0002376\",\"HP:0001251\", \"HP:0000602\",\"HP:0000505\")\n"
      ],
      "execution_count": 0,
      "outputs": []
    },
    {
      "cell_type": "markdown",
      "metadata": {
        "id": "BzO4PvAdceGW",
        "colab_type": "text"
      },
      "source": [
        "#### Load gene to HPO ID file from HPO database \n",
        "The Human Phenotype Ontology gives access to a very useful file, showing the link between symptoms and genes. This file is updated regularly so we recommend to download the latest version whenever possible.\n",
        "\n",
        "**bold text**\n",
        "You can download this file here: http://compbio.charite.de/jenkins/job/hpo.annotations.monthly/lastStableBuild/artifact/annotation/ALL_SOURCES_FREQUENT_FEATURES_phenotype_to_genes.txt"
      ]
    },
    {
      "cell_type": "code",
      "metadata": {
        "id": "NvVQom5fvSyz",
        "colab_type": "code",
        "outputId": "7c47ffd0-4503-4670-aaa6-0d4e8ab129b7",
        "colab": {
          "base_uri": "https://localhost:8080/",
          "height": 221
        }
      },
      "source": [
        "\n",
        "# Get the file URL\n",
        "hpo_annotations_url =\"http://compbio.charite.de/jenkins/job/hpo.annotations.monthly/lastStableBuild/artifact/annotation/ALL_SOURCES_FREQUENT_FEATURES_phenotype_to_genes.txt\"\n",
        "\n",
        "# Extract the file name \n",
        "file <- basename(hpo_annotations_url)\n",
        "\n",
        "# Read the file\n",
        "gene_hpo <-fread(hpo_annotations_url, skip=1)\n",
        "\n",
        "# Select only the columns of interest (Gene and HPO term)\n",
        "gene_hpo <- gene_hpo[, c(4, 1)]\n",
        "colnames(gene_hpo) <- c(\"Gene\", \"Term\")\n",
        "\n",
        "# Look at the results\n",
        "print(\"This is what the output looks like\")\n",
        "head(gene_hpo)"
      ],
      "execution_count": 10,
      "outputs": [
        {
          "output_type": "stream",
          "text": [
            "[1] \"This is what the output looks like\"\n"
          ],
          "name": "stdout"
        },
        {
          "output_type": "display_data",
          "data": {
            "text/plain": [
              "  Gene  Term      \n",
              "1 GLI3  HP:0001459\n",
              "2 LMBR1 HP:0006088\n",
              "3 SHH   HP:0010708\n",
              "4 LMBR1 HP:0010708\n",
              "5 GLI3  HP:0010713\n",
              "6 PRPS1 HP:0030927"
            ],
            "text/latex": "A data.table: 6 × 2\n\\begin{tabular}{r|ll}\n Gene & Term\\\\\n <chr> & <chr>\\\\\n\\hline\n\t GLI3  & HP:0001459\\\\\n\t LMBR1 & HP:0006088\\\\\n\t SHH   & HP:0010708\\\\\n\t LMBR1 & HP:0010708\\\\\n\t GLI3  & HP:0010713\\\\\n\t PRPS1 & HP:0030927\\\\\n\\end{tabular}\n",
            "text/markdown": "\nA data.table: 6 × 2\n\n| Gene &lt;chr&gt; | Term &lt;chr&gt; |\n|---|---|\n| GLI3  | HP:0001459 |\n| LMBR1 | HP:0006088 |\n| SHH   | HP:0010708 |\n| LMBR1 | HP:0010708 |\n| GLI3  | HP:0010713 |\n| PRPS1 | HP:0030927 |\n\n",
            "text/html": [
              "<table>\n",
              "<caption>A data.table: 6 × 2</caption>\n",
              "<thead>\n",
              "\t<tr><th scope=col>Gene</th><th scope=col>Term</th></tr>\n",
              "\t<tr><th scope=col>&lt;chr&gt;</th><th scope=col>&lt;chr&gt;</th></tr>\n",
              "</thead>\n",
              "<tbody>\n",
              "\t<tr><td>GLI3 </td><td>HP:0001459</td></tr>\n",
              "\t<tr><td>LMBR1</td><td>HP:0006088</td></tr>\n",
              "\t<tr><td>SHH  </td><td>HP:0010708</td></tr>\n",
              "\t<tr><td>LMBR1</td><td>HP:0010708</td></tr>\n",
              "\t<tr><td>GLI3 </td><td>HP:0010713</td></tr>\n",
              "\t<tr><td>PRPS1</td><td>HP:0030927</td></tr>\n",
              "</tbody>\n",
              "</table>\n"
            ]
          },
          "metadata": {
            "tags": []
          }
        }
      ]
    },
    {
      "cell_type": "markdown",
      "metadata": {
        "id": "Mx3FxTvUclS1",
        "colab_type": "text"
      },
      "source": [
        "#### Get subset of genes that could match symptoms list\n",
        "Now that we have downloaded that file, we want to keep only the genes that are phenotypically relevant to the case.\n",
        "\n",
        "1. Filter for HPO terms corresponding to the case\n",
        "2. Obtain the Ensembl IDs for the genes that are associated to those HPO terms\n"
      ]
    },
    {
      "cell_type": "code",
      "metadata": {
        "id": "N2vn-AS-ZzG5",
        "colab_type": "code",
        "colab": {}
      },
      "source": [
        "# Get list of genes corresponding to the case symptoms.\n",
        "genes_hpo_case=gene_hpo %>% filter(Term %in% sample_HPO) %>% left_join(grch37,by=c(\"Gene\"=\"symbol\"))%>% select(ensgene) %>% unique%>% unlist\n"
      ],
      "execution_count": 0,
      "outputs": []
    },
    {
      "cell_type": "markdown",
      "metadata": {
        "id": "5MxWC6OznCOo",
        "colab_type": "text"
      },
      "source": [
        "`genes_hpo_case` contains the Ensembl IDs of genes associated with HPO terms for the case."
      ]
    },
    {
      "cell_type": "code",
      "metadata": {
        "id": "WYeTH5SxnP3r",
        "colab_type": "code",
        "outputId": "8ed9913c-7870-4061-ce55-2784a1d7dc50",
        "colab": {
          "base_uri": "https://localhost:8080/",
          "height": 266
        }
      },
      "source": [
        "print(\"This is what the output looks like\")\n",
        "head(genes_hpo_case)"
      ],
      "execution_count": 13,
      "outputs": [
        {
          "output_type": "stream",
          "text": [
            "[1] \"This is what the output looks like\"\n"
          ],
          "name": "stdout"
        },
        {
          "output_type": "display_data",
          "data": {
            "text/plain": [
              "         ensgene1          ensgene2          ensgene3          ensgene4 \n",
              "\"ENSG00000187566\" \"ENSG00000171723\" \"ENSG00000105695\" \"ENSG00000136463\" \n",
              "         ensgene5          ensgene6 \n",
              "\"ENSG00000081307\" \"ENSG00000182372\" "
            ],
            "text/latex": "\\begin{description*}\n\\item[ensgene1] 'ENSG00000187566'\n\\item[ensgene2] 'ENSG00000171723'\n\\item[ensgene3] 'ENSG00000105695'\n\\item[ensgene4] 'ENSG00000136463'\n\\item[ensgene5] 'ENSG00000081307'\n\\item[ensgene6] 'ENSG00000182372'\n\\end{description*}\n",
            "text/markdown": "ensgene1\n:   'ENSG00000187566'ensgene2\n:   'ENSG00000171723'ensgene3\n:   'ENSG00000105695'ensgene4\n:   'ENSG00000136463'ensgene5\n:   'ENSG00000081307'ensgene6\n:   'ENSG00000182372'\n\n",
            "text/html": [
              "<dl class=dl-horizontal>\n",
              "\t<dt>ensgene1</dt>\n",
              "\t\t<dd>'ENSG00000187566'</dd>\n",
              "\t<dt>ensgene2</dt>\n",
              "\t\t<dd>'ENSG00000171723'</dd>\n",
              "\t<dt>ensgene3</dt>\n",
              "\t\t<dd>'ENSG00000105695'</dd>\n",
              "\t<dt>ensgene4</dt>\n",
              "\t\t<dd>'ENSG00000136463'</dd>\n",
              "\t<dt>ensgene5</dt>\n",
              "\t\t<dd>'ENSG00000081307'</dd>\n",
              "\t<dt>ensgene6</dt>\n",
              "\t\t<dd>'ENSG00000182372'</dd>\n",
              "</dl>\n"
            ]
          },
          "metadata": {
            "tags": []
          }
        }
      ]
    },
    {
      "cell_type": "markdown",
      "metadata": {
        "id": "2T5lbU7Qsdwb",
        "colab_type": "text"
      },
      "source": [
        "You can quicly check how many genes are currently linked with the symptoms of your case of interest."
      ]
    },
    {
      "cell_type": "code",
      "metadata": {
        "id": "syt-E_WpsoNa",
        "colab_type": "code",
        "outputId": "e98b5934-d6b3-41d6-f651-5fb266250f66",
        "colab": {
          "base_uri": "https://localhost:8080/",
          "height": 34
        }
      },
      "source": [
        "# Get number of genes linked to case symptoms\n",
        "length(genes_hpo_case)"
      ],
      "execution_count": 14,
      "outputs": [
        {
          "output_type": "display_data",
          "data": {
            "text/plain": [
              "[1] 1519"
            ],
            "text/latex": "1519",
            "text/markdown": "1519",
            "text/html": [
              "1519"
            ]
          },
          "metadata": {
            "tags": []
          }
        }
      ]
    },
    {
      "cell_type": "markdown",
      "metadata": {
        "id": "j3d-6V9lstnN",
        "colab_type": "text"
      },
      "source": [
        "There are 1,519 genes that could match some of the patient's symtoms."
      ]
    },
    {
      "cell_type": "markdown",
      "metadata": {
        "id": "3Cv3DM7CIpT5",
        "colab_type": "text"
      },
      "source": [
        "\n",
        "\n",
        "---\n",
        "\n",
        "\n",
        "\n",
        "#### Subset the list of genes to outlier candidates \n",
        "Here the assumption is that if there is an expression perturbation on the causal gene, this gene is somehow linked to some of the symtoms of the patient.\\\n",
        "So we want to **filter** the list of genes somehow linked to the patients symptoms (listed in `genes_hpo_case`) for the one obtained as candidates in previous work.\n"
      ]
    },
    {
      "cell_type": "code",
      "metadata": {
        "id": "Bx52R3KeekgA",
        "colab_type": "code",
        "colab": {}
      },
      "source": [
        "# Filter outlier genes for genes linked to the phenotype.\n",
        "candidate_genes.hpo=candidate_genes %>% filter(ensgene %in% genes_hpo_case)"
      ],
      "execution_count": 0,
      "outputs": []
    },
    {
      "cell_type": "markdown",
      "metadata": {
        "id": "P6BqFHBCt6uI",
        "colab_type": "text"
      },
      "source": [
        "As you can see the list of potential genes is now much reduced."
      ]
    },
    {
      "cell_type": "code",
      "metadata": {
        "id": "tfpM9Il-uBNE",
        "colab_type": "code",
        "outputId": "016fb012-6c87-454b-b8da-4437856a782a",
        "colab": {
          "base_uri": "https://localhost:8080/",
          "height": 171
        }
      },
      "source": [
        "# Get the number of genes left\n",
        "print (\"This is the number of outlier genes left:\")\n",
        "length(candidate_genes.hpo$ensgene)\n",
        "\n",
        "# Take a look at the results\n",
        "print(\"Let's take a look at those genes\")\n",
        "candidate_genes.hpo"
      ],
      "execution_count": 17,
      "outputs": [
        {
          "output_type": "stream",
          "text": [
            "[1] \"This is the number of outlier genes left:\"\n"
          ],
          "name": "stdout"
        },
        {
          "output_type": "display_data",
          "data": {
            "text/plain": [
              "[1] 2"
            ],
            "text/latex": "2",
            "text/markdown": "2",
            "text/html": [
              "2"
            ]
          },
          "metadata": {
            "tags": []
          }
        },
        {
          "output_type": "stream",
          "text": [
            "[1] \"Let's take a look at those genes\"\n"
          ],
          "name": "stdout"
        },
        {
          "output_type": "display_data",
          "data": {
            "text/plain": [
              "  ensgene         entrez symbol chr start    end      strand biotype       \n",
              "1 ENSG00000090674 57192  MCOLN1 19   7587512  7598895  1     protein_coding\n",
              "2 ENSG00000119772  1788  DNMT3A 2   25455845 25565459 -1     protein_coding\n",
              "  description                                                              \n",
              "1 mucolipin 1 [Source:HGNC Symbol;Acc:13356]                               \n",
              "2 DNA (cytosine-5-)-methyltransferase 3 alpha [Source:HGNC Symbol;Acc:2978]"
            ],
            "text/latex": "A tibble: 2 × 9\n\\begin{tabular}{r|lllllllll}\n ensgene & entrez & symbol & chr & start & end & strand & biotype & description\\\\\n <chr> & <int> & <chr> & <chr> & <int> & <int> & <int> & <chr> & <chr>\\\\\n\\hline\n\t ENSG00000090674 & 57192 & MCOLN1 & 19 &  7587512 &  7598895 &  1 & protein\\_coding & mucolipin 1 {[}Source:HGNC Symbol;Acc:13356{]}                               \\\\\n\t ENSG00000119772 &  1788 & DNMT3A & 2  & 25455845 & 25565459 & -1 & protein\\_coding & DNA (cytosine-5-)-methyltransferase 3 alpha {[}Source:HGNC Symbol;Acc:2978{]}\\\\\n\\end{tabular}\n",
            "text/markdown": "\nA tibble: 2 × 9\n\n| ensgene &lt;chr&gt; | entrez &lt;int&gt; | symbol &lt;chr&gt; | chr &lt;chr&gt; | start &lt;int&gt; | end &lt;int&gt; | strand &lt;int&gt; | biotype &lt;chr&gt; | description &lt;chr&gt; |\n|---|---|---|---|---|---|---|---|---|\n| ENSG00000090674 | 57192 | MCOLN1 | 19 |  7587512 |  7598895 |  1 | protein_coding | mucolipin 1 [Source:HGNC Symbol;Acc:13356]                                |\n| ENSG00000119772 |  1788 | DNMT3A | 2  | 25455845 | 25565459 | -1 | protein_coding | DNA (cytosine-5-)-methyltransferase 3 alpha [Source:HGNC Symbol;Acc:2978] |\n\n",
            "text/html": [
              "<table>\n",
              "<caption>A tibble: 2 × 9</caption>\n",
              "<thead>\n",
              "\t<tr><th scope=col>ensgene</th><th scope=col>entrez</th><th scope=col>symbol</th><th scope=col>chr</th><th scope=col>start</th><th scope=col>end</th><th scope=col>strand</th><th scope=col>biotype</th><th scope=col>description</th></tr>\n",
              "\t<tr><th scope=col>&lt;chr&gt;</th><th scope=col>&lt;int&gt;</th><th scope=col>&lt;chr&gt;</th><th scope=col>&lt;chr&gt;</th><th scope=col>&lt;int&gt;</th><th scope=col>&lt;int&gt;</th><th scope=col>&lt;int&gt;</th><th scope=col>&lt;chr&gt;</th><th scope=col>&lt;chr&gt;</th></tr>\n",
              "</thead>\n",
              "<tbody>\n",
              "\t<tr><td>ENSG00000090674</td><td>57192</td><td>MCOLN1</td><td>19</td><td> 7587512</td><td> 7598895</td><td> 1</td><td>protein_coding</td><td>mucolipin 1 [Source:HGNC Symbol;Acc:13356]                               </td></tr>\n",
              "\t<tr><td>ENSG00000119772</td><td> 1788</td><td>DNMT3A</td><td>2 </td><td>25455845</td><td>25565459</td><td>-1</td><td>protein_coding</td><td>DNA (cytosine-5-)-methyltransferase 3 alpha [Source:HGNC Symbol;Acc:2978]</td></tr>\n",
              "</tbody>\n",
              "</table>\n"
            ]
          },
          "metadata": {
            "tags": []
          }
        }
      ]
    },
    {
      "cell_type": "markdown",
      "metadata": {
        "id": "bzkKSVL9-ldj",
        "colab_type": "text"
      },
      "source": [
        "We dropped from 22 candidates to 2 genes, *MCOLN1* and *DNMT3A*."
      ]
    },
    {
      "cell_type": "markdown",
      "metadata": {
        "id": "FJmbrV2ruJK_",
        "colab_type": "text"
      },
      "source": [
        "\n",
        "\n",
        "\n",
        "---\n",
        "\n",
        "---\n",
        "\n",
        "\n",
        "\n",
        "### Annotate with variant information\n",
        "\n",
        "We can go further and annotate our candidate with the variant information for the case.\n",
        "\n",
        "To do so, we need to transform the candidate genes list into the right format so that we can use the genes when reading in the vcf file in R."
      ]
    },
    {
      "cell_type": "markdown",
      "metadata": {
        "id": "u44P076zI2I9",
        "colab_type": "text"
      },
      "source": [
        "#### Build a GRanges object with list of genes obtain in previous steps\n",
        "We are using R packages that have been developped to filter vcf files. \n",
        "Here we want to upload only the part of the vcf file that is in regions of interest (ie our candidate genes). We can do this by giving as an input an object of type GRange (https://web.mit.edu/~r/current/arch/i386_linux26/lib/R/library/GenomicRanges/html/GRanges-class.html).\n",
        "\n",
        "\n",
        "The next steps are transforming our list of candidate genes to the right format so that we can proceed with the analysis.\n",
        "\n",
        "1. Change start and end position to include potential regulatory regions (+/- 1kb here).\n",
        "note that you can customize this distance or use the gene coordinates only.\n"
      ]
    },
    {
      "cell_type": "code",
      "metadata": {
        "id": "ji6EDKN7fGjN",
        "colab_type": "code",
        "outputId": "901b1c63-e98a-476f-8112-a9e176cba822",
        "colab": {
          "base_uri": "https://localhost:8080/",
          "height": 120
        }
      },
      "source": [
        "# Add new start and stop coordinates for genes of interest extending to 1kb around the gene\n",
        "candidate_genes=candidate_genes.hpo %>% mutate(new_start=pmin(start,end)-1e3, new_end=pmax(start,end)+1e3)\n",
        "\n",
        "\n",
        "# Take a look at the results\n",
        "print(\"Let's take a look at those genes\")\n",
        "head(candidate_genes)"
      ],
      "execution_count": 0,
      "outputs": [
        {
          "output_type": "display_data",
          "data": {
            "text/plain": [
              "  ensgene         entrez symbol chr start    end      strand biotype       \n",
              "1 ENSG00000090674 57192  MCOLN1 19   7587512  7598895  1     protein_coding\n",
              "2 ENSG00000119772  1788  DNMT3A 2   25455845 25565459 -1     protein_coding\n",
              "  description                                                              \n",
              "1 mucolipin 1 [Source:HGNC Symbol;Acc:13356]                               \n",
              "2 DNA (cytosine-5-)-methyltransferase 3 alpha [Source:HGNC Symbol;Acc:2978]\n",
              "  new_start new_end \n",
              "1  6587512   8598895\n",
              "2 24455845  26565459"
            ],
            "text/latex": "A tibble: 2 × 11\n\\begin{tabular}{r|lllllllllll}\n ensgene & entrez & symbol & chr & start & end & strand & biotype & description & new\\_start & new\\_end\\\\\n <chr> & <int> & <chr> & <chr> & <int> & <int> & <int> & <chr> & <chr> & <dbl> & <dbl>\\\\\n\\hline\n\t ENSG00000090674 & 57192 & MCOLN1 & 19 &  7587512 &  7598895 &  1 & protein\\_coding & mucolipin 1 {[}Source:HGNC Symbol;Acc:13356{]}                                &  6587512 &  8598895\\\\\n\t ENSG00000119772 &  1788 & DNMT3A & 2  & 25455845 & 25565459 & -1 & protein\\_coding & DNA (cytosine-5-)-methyltransferase 3 alpha {[}Source:HGNC Symbol;Acc:2978{]} & 24455845 & 26565459\\\\\n\\end{tabular}\n",
            "text/markdown": "\nA tibble: 2 × 11\n\n| ensgene &lt;chr&gt; | entrez &lt;int&gt; | symbol &lt;chr&gt; | chr &lt;chr&gt; | start &lt;int&gt; | end &lt;int&gt; | strand &lt;int&gt; | biotype &lt;chr&gt; | description &lt;chr&gt; | new_start &lt;dbl&gt; | new_end &lt;dbl&gt; |\n|---|---|---|---|---|---|---|---|---|---|---|\n| ENSG00000090674 | 57192 | MCOLN1 | 19 |  7587512 |  7598895 |  1 | protein_coding | mucolipin 1 [Source:HGNC Symbol;Acc:13356]                                |  6587512 |  8598895 |\n| ENSG00000119772 |  1788 | DNMT3A | 2  | 25455845 | 25565459 | -1 | protein_coding | DNA (cytosine-5-)-methyltransferase 3 alpha [Source:HGNC Symbol;Acc:2978] | 24455845 | 26565459 |\n\n",
            "text/html": [
              "<table>\n",
              "<caption>A tibble: 2 × 11</caption>\n",
              "<thead>\n",
              "\t<tr><th scope=col>ensgene</th><th scope=col>entrez</th><th scope=col>symbol</th><th scope=col>chr</th><th scope=col>start</th><th scope=col>end</th><th scope=col>strand</th><th scope=col>biotype</th><th scope=col>description</th><th scope=col>new_start</th><th scope=col>new_end</th></tr>\n",
              "\t<tr><th scope=col>&lt;chr&gt;</th><th scope=col>&lt;int&gt;</th><th scope=col>&lt;chr&gt;</th><th scope=col>&lt;chr&gt;</th><th scope=col>&lt;int&gt;</th><th scope=col>&lt;int&gt;</th><th scope=col>&lt;int&gt;</th><th scope=col>&lt;chr&gt;</th><th scope=col>&lt;chr&gt;</th><th scope=col>&lt;dbl&gt;</th><th scope=col>&lt;dbl&gt;</th></tr>\n",
              "</thead>\n",
              "<tbody>\n",
              "\t<tr><td>ENSG00000090674</td><td>57192</td><td>MCOLN1</td><td>19</td><td> 7587512</td><td> 7598895</td><td> 1</td><td>protein_coding</td><td>mucolipin 1 [Source:HGNC Symbol;Acc:13356]                               </td><td> 6587512</td><td> 8598895</td></tr>\n",
              "\t<tr><td>ENSG00000119772</td><td> 1788</td><td>DNMT3A</td><td>2 </td><td>25455845</td><td>25565459</td><td>-1</td><td>protein_coding</td><td>DNA (cytosine-5-)-methyltransferase 3 alpha [Source:HGNC Symbol;Acc:2978]</td><td>24455845</td><td>26565459</td></tr>\n",
              "</tbody>\n",
              "</table>\n"
            ]
          },
          "metadata": {
            "tags": []
          }
        }
      ]
    },
    {
      "cell_type": "markdown",
      "metadata": {
        "id": "tENjxDleoUbF",
        "colab_type": "text"
      },
      "source": [
        "2. Transform data frame into GRange object"
      ]
    },
    {
      "cell_type": "code",
      "metadata": {
        "id": "JGNob8EEdvk1",
        "colab_type": "code",
        "colab": {}
      },
      "source": [
        "# Create a GRange Object\n",
        "candidate_genes.gr=makeGRangesFromDataFrame(candidate_genes,ignore.strand=T,start.field=\"new_start\",end.field=\"new_end\")"
      ],
      "execution_count": 0,
      "outputs": []
    },
    {
      "cell_type": "markdown",
      "metadata": {
        "id": "N2Fdvh7ZJOvM",
        "colab_type": "text"
      },
      "source": [
        "3. Add gene names in GRanges object\n"
      ]
    },
    {
      "cell_type": "code",
      "metadata": {
        "id": "GtO4l3n3JXmL",
        "colab_type": "code",
        "colab": {}
      },
      "source": [
        "# Add the Ensembl gene names to the GRange object\n",
        "names(candidate_genes.gr)=candidate_genes$ensgene"
      ],
      "execution_count": 0,
      "outputs": []
    },
    {
      "cell_type": "markdown",
      "metadata": {
        "id": "BWZ2ubNnJeYO",
        "colab_type": "text"
      },
      "source": [
        "#### Download the vcf file\n",
        "Now that we have the coordinates of the candidate genes in the right format, we can load the vcf."
      ]
    },
    {
      "cell_type": "code",
      "metadata": {
        "id": "r9LsngskpxHD",
        "colab_type": "code",
        "outputId": "1c967d4c-2884-40ba-98c5-af30fdb50138",
        "colab": {
          "base_uri": "https://localhost:8080/",
          "height": 102
        }
      },
      "source": [
        "# download the vcf file\n",
        "vcfRemote <- \"https://i12g-gagneurweb.in.tum.de/public/workshops/RNAseq_ASHG19/input_data/variants/1000G_subset_exome.vep.vcf.gz\"\n",
        "system(paste0(\"wget -c \", vcfRemote), intern=TRUE)\n",
        "\n",
        "# index the vcf file\n",
        "indexVcf(\"1000G_subset_exome.vep.vcf.gz\")\n",
        "\n",
        "# create a reference \n",
        "vcfFile <- TabixFile(\"1000G_subset_exome.vep.vcf.gz\")\n",
        "\n",
        "\n",
        "\n",
        "\n"
      ],
      "execution_count": 0,
      "outputs": [
        {
          "output_type": "display_data",
          "data": {
            "text/plain": [
              "character(0)"
            ],
            "text/latex": "",
            "text/markdown": "",
            "text/html": [
              ""
            ]
          },
          "metadata": {
            "tags": []
          }
        },
        {
          "output_type": "display_data",
          "data": {
            "text/plain": [
              "class: VcfFile \n",
              "path: 1000G_subset_exome.vep.vcf.gz\n",
              "index: 1000G_subset_exome.vep.vcf.gz.tbi\n",
              "isOpen: FALSE \n",
              "yieldSize: NA "
            ]
          },
          "metadata": {
            "tags": []
          }
        }
      ]
    },
    {
      "cell_type": "markdown",
      "metadata": {
        "id": "YL6GMhEE5uu0",
        "colab_type": "text"
      },
      "source": [
        "\n",
        "#### Create a parameter object influencing which sample is imported from the VCF file\n",
        "Here only the sample of interest and variants overlapping the genes of interest will be looked at.\n"
      ]
    },
    {
      "cell_type": "code",
      "metadata": {
        "id": "Ab_yUpCb54L4",
        "colab_type": "code",
        "colab": {}
      },
      "source": [
        "params=ScanVcfParam(samples=\"NA11918\", which=candidate_genes.gr)\n"
      ],
      "execution_count": 0,
      "outputs": []
    },
    {
      "cell_type": "markdown",
      "metadata": {
        "id": "yoFoX41R6JJK",
        "colab_type": "text"
      },
      "source": [
        "#### Read in vcf file filtering for sample of interest"
      ]
    },
    {
      "cell_type": "code",
      "metadata": {
        "id": "aF7lPKzq6Ir9",
        "colab_type": "code",
        "outputId": "e3550dc0-7d0e-4de6-b9dd-10ff8266317c",
        "colab": {
          "base_uri": "https://localhost:8080/",
          "height": 51
        }
      },
      "source": [
        "vcf_rng <- readVcf(vcfFile, \"hg19\", params)\n",
        "\n"
      ],
      "execution_count": 0,
      "outputs": [
        {
          "output_type": "stream",
          "text": [
            "Warning message in .bcfHeaderAsSimpleList(header):\n",
            "\"duplicate keys in header will be forced to unique rownames\""
          ],
          "name": "stderr"
        }
      ]
    },
    {
      "cell_type": "markdown",
      "metadata": {
        "id": "s1a-Kz7FFMfu",
        "colab_type": "text"
      },
      "source": [
        "#### Filter for Heterozygous or Homozygous Alt and genes of interest"
      ]
    },
    {
      "cell_type": "code",
      "metadata": {
        "id": "kVA8nZtNFWWX",
        "colab_type": "code",
        "colab": {}
      },
      "source": [
        "# Filter on variants het or homozygous alt\n",
        "Hetfilt <- FilterRules(list(HetorHomAlt = function(x) geno(x)$GT %in% c(\"0|1\", \"1|1\")))\n",
        "GeneFilt<-VcfVepRules(exprs = list(Cand_genes = expression(SYMBOL %in% c(\"MCOLN1\", \"DNMT3A\") )))                            \n",
        "\n",
        "combinedPreFilters <- VcfFilterRules(\n",
        "  Hetfilt, \n",
        "  GeneFilt)\n",
        "vcf_het_cand <- subsetByFilter(vcf_rng, combinedPreFilters)\n"
      ],
      "execution_count": 0,
      "outputs": []
    },
    {
      "cell_type": "markdown",
      "metadata": {
        "id": "VsV33kgc7rYX",
        "colab_type": "text"
      },
      "source": [
        "#### Get consequence field\n"
      ]
    },
    {
      "cell_type": "code",
      "metadata": {
        "id": "MRu35kaO7t64",
        "colab_type": "code",
        "outputId": "ad258da4-cc3b-4f5b-f573-35534135d3a4",
        "colab": {
          "base_uri": "https://localhost:8080/",
          "height": 1000
        }
      },
      "source": [
        "csq <- ensemblVEP::parseCSQToGRanges(x = vcf_het_cand)\n",
        "head(csq)\n",
        "csq$SYMBOL"
      ],
      "execution_count": 0,
      "outputs": [
        {
          "output_type": "display_data",
          "data": {
            "text/plain": [
              "GRanges object with 6 ranges and 58 metadata columns:\n",
              "              seqnames    ranges strand |      Allele\n",
              "                 <Rle> <IRanges>  <Rle> | <character>\n",
              "  rs768736321       19   7592731      * |           C\n",
              "  rs768736321       19   7592731      * |           C\n",
              "  rs768736321       19   7592731      * |           C\n",
              "  rs768736321       19   7592731      * |           C\n",
              "  rs768736321       19   7592731      * |           C\n",
              "  rs768736321       19   7592731      * |           C\n",
              "                                     Consequence      IMPACT      SYMBOL\n",
              "                                     <character> <character> <character>\n",
              "  rs768736321                     intron_variant    MODIFIER      MCOLN1\n",
              "  rs768736321 non_coding_transcript_exon_variant    MODIFIER      MCOLN1\n",
              "  rs768736321              upstream_gene_variant    MODIFIER      MCOLN1\n",
              "  rs768736321              upstream_gene_variant    MODIFIER      MCOLN1\n",
              "  rs768736321            downstream_gene_variant    MODIFIER      MCOLN1\n",
              "  rs768736321            downstream_gene_variant    MODIFIER      MCOLN1\n",
              "                         Gene Feature_type         Feature         BIOTYPE\n",
              "                  <character>  <character>     <character>     <character>\n",
              "  rs768736321 ENSG00000090674   Transcript ENST00000264079  protein_coding\n",
              "  rs768736321 ENSG00000090674   Transcript ENST00000394321 retained_intron\n",
              "  rs768736321 ENSG00000090674   Transcript ENST00000594692 retained_intron\n",
              "  rs768736321 ENSG00000090674   Transcript ENST00000595860 retained_intron\n",
              "  rs768736321 ENSG00000090674   Transcript ENST00000596008 retained_intron\n",
              "  rs768736321 ENSG00000090674   Transcript ENST00000596390 retained_intron\n",
              "                     EXON      INTRON                         HGVSc       HGVSp\n",
              "              <character> <character>                   <character> <character>\n",
              "  rs768736321        <NA>        5/13 ENST00000264079.6:c.681-19A>C        <NA>\n",
              "  rs768736321        5/13        <NA>    ENST00000394321.5:n.977A>C        <NA>\n",
              "  rs768736321        <NA>        <NA>                          <NA>        <NA>\n",
              "  rs768736321        <NA>        <NA>                          <NA>        <NA>\n",
              "  rs768736321        <NA>        <NA>                          <NA>        <NA>\n",
              "  rs768736321        <NA>        <NA>                          <NA>        <NA>\n",
              "              cDNA_position CDS_position Protein_position Amino_acids\n",
              "                <character>  <character>      <character> <character>\n",
              "  rs768736321          <NA>         <NA>             <NA>        <NA>\n",
              "  rs768736321      977/2253         <NA>             <NA>        <NA>\n",
              "  rs768736321          <NA>         <NA>             <NA>        <NA>\n",
              "  rs768736321          <NA>         <NA>             <NA>        <NA>\n",
              "  rs768736321          <NA>         <NA>             <NA>        <NA>\n",
              "  rs768736321          <NA>         <NA>             <NA>        <NA>\n",
              "                   Codons Existing_variation  ALLELE_NUM    DISTANCE\n",
              "              <character>        <character> <character> <character>\n",
              "  rs768736321        <NA>        rs768736321           1        <NA>\n",
              "  rs768736321        <NA>        rs768736321           1        <NA>\n",
              "  rs768736321        <NA>        rs768736321           1        1126\n",
              "  rs768736321        <NA>        rs768736321           1         809\n",
              "  rs768736321        <NA>        rs768736321           1         680\n",
              "  rs768736321        <NA>        rs768736321           1        1854\n",
              "                   STRAND       FLAGS   MINIMISED SYMBOL_SOURCE     HGNC_ID\n",
              "              <character> <character> <character>   <character> <character>\n",
              "  rs768736321           1        <NA>           1          HGNC       13356\n",
              "  rs768736321           1        <NA>           1          HGNC       13356\n",
              "  rs768736321           1        <NA>           1          HGNC       13356\n",
              "  rs768736321           1        <NA>           1          HGNC       13356\n",
              "  rs768736321           1        <NA>           1          HGNC       13356\n",
              "  rs768736321           1        <NA>           1          HGNC       13356\n",
              "                CANONICAL        CCDS   SWISSPROT      TREMBL       UNIPARC\n",
              "              <character> <character> <character> <character>   <character>\n",
              "  rs768736321         YES CCDS12180.1      Q9GZU1      B4DFZ1 UPI00000377A2\n",
              "  rs768736321        <NA>        <NA>        <NA>        <NA>          <NA>\n",
              "  rs768736321        <NA>        <NA>        <NA>        <NA>          <NA>\n",
              "  rs768736321        <NA>        <NA>        <NA>        <NA>          <NA>\n",
              "  rs768736321        <NA>        <NA>        <NA>        <NA>          <NA>\n",
              "  rs768736321        <NA>        <NA>        <NA>        <NA>          <NA>\n",
              "                   RefSeq REFSEQ_MATCH      SOURCE   GIVEN_REF    USED_REF\n",
              "              <character>  <character> <character> <character> <character>\n",
              "  rs768736321 NM_020533.2         <NA>     Ensembl           A           A\n",
              "  rs768736321        <NA>         <NA>     Ensembl           A           A\n",
              "  rs768736321        <NA>         <NA>     Ensembl           A           A\n",
              "  rs768736321        <NA>         <NA>     Ensembl           A           A\n",
              "  rs768736321        <NA>         <NA>     Ensembl           A           A\n",
              "  rs768736321        <NA>         <NA>     Ensembl           A           A\n",
              "                 BAM_EDIT        SIFT    PolyPhen HGVS_OFFSET          AF\n",
              "              <character> <character> <character> <character> <character>\n",
              "  rs768736321        <NA>        <NA>        <NA>        <NA>        <NA>\n",
              "  rs768736321        <NA>        <NA>        <NA>        <NA>        <NA>\n",
              "  rs768736321        <NA>        <NA>        <NA>        <NA>        <NA>\n",
              "  rs768736321        <NA>        <NA>        <NA>        <NA>        <NA>\n",
              "  rs768736321        <NA>        <NA>        <NA>        <NA>        <NA>\n",
              "  rs768736321        <NA>        <NA>        <NA>        <NA>        <NA>\n",
              "                gnomAD_AF gnomAD_AFR_AF gnomAD_AMR_AF gnomAD_ASJ_AF\n",
              "              <character>   <character>   <character>   <character>\n",
              "  rs768736321   4.064e-06     6.537e-05             0             0\n",
              "  rs768736321   4.064e-06     6.537e-05             0             0\n",
              "  rs768736321   4.064e-06     6.537e-05             0             0\n",
              "  rs768736321   4.064e-06     6.537e-05             0             0\n",
              "  rs768736321   4.064e-06     6.537e-05             0             0\n",
              "  rs768736321   4.064e-06     6.537e-05             0             0\n",
              "              gnomAD_EAS_AF gnomAD_FIN_AF gnomAD_NFE_AF gnomAD_OTH_AF\n",
              "                <character>   <character>   <character>   <character>\n",
              "  rs768736321             0             0             0             0\n",
              "  rs768736321             0             0             0             0\n",
              "  rs768736321             0             0             0             0\n",
              "  rs768736321             0             0             0             0\n",
              "  rs768736321             0             0             0             0\n",
              "  rs768736321             0             0             0             0\n",
              "              gnomAD_SAS_AF      MAX_AF MAX_AF_POPS       FREQS    CLIN_SIG\n",
              "                <character> <character> <character> <character> <character>\n",
              "  rs768736321             0   6.537e-05  gnomAD_AFR        <NA>        <NA>\n",
              "  rs768736321             0   6.537e-05  gnomAD_AFR        <NA>        <NA>\n",
              "  rs768736321             0   6.537e-05  gnomAD_AFR        <NA>        <NA>\n",
              "  rs768736321             0   6.537e-05  gnomAD_AFR        <NA>        <NA>\n",
              "  rs768736321             0   6.537e-05  gnomAD_AFR        <NA>        <NA>\n",
              "  rs768736321             0   6.537e-05  gnomAD_AFR        <NA>        <NA>\n",
              "                  SOMATIC       PHENO      PUBMED  CADD_PHRED    CADD_RAW\n",
              "              <character> <character> <character> <character> <character>\n",
              "  rs768736321        <NA>        <NA>        <NA>       8.612    0.667432\n",
              "  rs768736321        <NA>        <NA>        <NA>       8.612    0.667432\n",
              "  rs768736321        <NA>        <NA>        <NA>       8.612    0.667432\n",
              "  rs768736321        <NA>        <NA>        <NA>       8.612    0.667432\n",
              "  rs768736321        <NA>        <NA>        <NA>       8.612    0.667432\n",
              "  rs768736321        <NA>        <NA>        <NA>       8.612    0.667432\n",
              "  -------\n",
              "  seqinfo: 86 sequences from hg19 genome"
            ]
          },
          "metadata": {
            "tags": []
          }
        },
        {
          "output_type": "display_data",
          "data": {
            "text/plain": [
              " [1] \"MCOLN1\" \"MCOLN1\" \"MCOLN1\" \"MCOLN1\" \"MCOLN1\" \"MCOLN1\" \"MCOLN1\" \"MCOLN1\"\n",
              " [9] \"MCOLN1\" \"MCOLN1\" \"MCOLN1\" \"MCOLN1\" \"MCOLN1\" \"MCOLN1\" \"MCOLN1\" \"MCOLN1\"\n",
              "[17] \"MCOLN1\" \"MCOLN1\" \"MCOLN1\" \"MCOLN1\""
            ],
            "text/latex": "\\begin{enumerate*}\n\\item 'MCOLN1'\n\\item 'MCOLN1'\n\\item 'MCOLN1'\n\\item 'MCOLN1'\n\\item 'MCOLN1'\n\\item 'MCOLN1'\n\\item 'MCOLN1'\n\\item 'MCOLN1'\n\\item 'MCOLN1'\n\\item 'MCOLN1'\n\\item 'MCOLN1'\n\\item 'MCOLN1'\n\\item 'MCOLN1'\n\\item 'MCOLN1'\n\\item 'MCOLN1'\n\\item 'MCOLN1'\n\\item 'MCOLN1'\n\\item 'MCOLN1'\n\\item 'MCOLN1'\n\\item 'MCOLN1'\n\\end{enumerate*}\n",
            "text/markdown": "1. 'MCOLN1'\n2. 'MCOLN1'\n3. 'MCOLN1'\n4. 'MCOLN1'\n5. 'MCOLN1'\n6. 'MCOLN1'\n7. 'MCOLN1'\n8. 'MCOLN1'\n9. 'MCOLN1'\n10. 'MCOLN1'\n11. 'MCOLN1'\n12. 'MCOLN1'\n13. 'MCOLN1'\n14. 'MCOLN1'\n15. 'MCOLN1'\n16. 'MCOLN1'\n17. 'MCOLN1'\n18. 'MCOLN1'\n19. 'MCOLN1'\n20. 'MCOLN1'\n\n\n",
            "text/html": [
              "<ol class=list-inline>\n",
              "\t<li>'MCOLN1'</li>\n",
              "\t<li>'MCOLN1'</li>\n",
              "\t<li>'MCOLN1'</li>\n",
              "\t<li>'MCOLN1'</li>\n",
              "\t<li>'MCOLN1'</li>\n",
              "\t<li>'MCOLN1'</li>\n",
              "\t<li>'MCOLN1'</li>\n",
              "\t<li>'MCOLN1'</li>\n",
              "\t<li>'MCOLN1'</li>\n",
              "\t<li>'MCOLN1'</li>\n",
              "\t<li>'MCOLN1'</li>\n",
              "\t<li>'MCOLN1'</li>\n",
              "\t<li>'MCOLN1'</li>\n",
              "\t<li>'MCOLN1'</li>\n",
              "\t<li>'MCOLN1'</li>\n",
              "\t<li>'MCOLN1'</li>\n",
              "\t<li>'MCOLN1'</li>\n",
              "\t<li>'MCOLN1'</li>\n",
              "\t<li>'MCOLN1'</li>\n",
              "\t<li>'MCOLN1'</li>\n",
              "</ol>\n"
            ]
          },
          "metadata": {
            "tags": []
          }
        }
      ]
    },
    {
      "cell_type": "markdown",
      "metadata": {
        "id": "InQWGQnp7-HE",
        "colab_type": "text"
      },
      "source": [
        "\n",
        "\n",
        "#### Define a set of filters\n",
        "\n"
      ]
    },
    {
      "cell_type": "code",
      "metadata": {
        "id": "2yvxaNn88DDO",
        "colab_type": "code",
        "colab": {}
      },
      "source": [
        "\n",
        "# Filter on distance to the gene\n",
        "vepDistFilter <- VcfVepRules(exprs = list(Distance = expression(DISTANCE <=1000)))\n",
        "\n",
        "# Filter on allele frequency\n",
        "vepMAFFilter<- VcfVepRules(exprs = list(MAF = expression(as.numeric(gnomAD_AF) <=0.01)))\n",
        "\n",
        "\n",
        "# Filter on CADD score\n",
        "vepCADDFilter <- VcfVepRules(exprs = list(CADD = expression(CADD_PHRED >=20)))\n",
        "\n",
        "\n",
        "# Filter on consequences\n",
        "\n",
        "highImpactVariant<-VcfVepRules(exprs = list(BigImpact = expression(Consequence %in% c(\"splice_acceptor_variant\",\"splice_donor_variant\",\"stop_gained\",\"stop_lost\",\"frameshift_variant\"))))\n",
        "\n",
        "\n",
        "regulatoryVariant<-VcfVepRules(exprs = list(RegVar = expression(Consequence %in% c(\"5_prime_UTR_variant\", \"3_prime_UTR_variant\", \"intron_variant\",\"NMD_transcript_variant\",\"upstream_gene_variant\", \"downstream_gene_variant\"))))\n",
        "\n",
        "\n",
        "combinedFilters <- VcfFilterRules(\n",
        "  vepDistFilter,\n",
        "  vepMAFFilter,\n",
        "  vepCADDFilter, \n",
        "  highImpactVariant,\n",
        "  regulatoryVariant)\n",
        "\n"
      ],
      "execution_count": 0,
      "outputs": []
    },
    {
      "cell_type": "markdown",
      "metadata": {
        "id": "w7Ap1-eQ8MFZ",
        "colab_type": "text"
      },
      "source": [
        "You can play and add or remove filters"
      ]
    },
    {
      "cell_type": "code",
      "metadata": {
        "id": "gk4m1EUW8OIF",
        "colab_type": "code",
        "outputId": "9b568943-4a32-44dd-ca83-65a6ca2342cf",
        "colab": {
          "base_uri": "https://localhost:8080/",
          "height": 215
        }
      },
      "source": [
        "active(combinedFilters)\n"
      ],
      "execution_count": 0,
      "outputs": [
        {
          "output_type": "display_data",
          "data": {
            "text/plain": [
              " Distance       MAF      CADD BigImpact    RegVar \n",
              "     TRUE      TRUE      TRUE      TRUE      TRUE "
            ],
            "text/latex": "\\begin{description*}\n\\item[Distance] TRUE\n\\item[MAF] TRUE\n\\item[CADD] TRUE\n\\item[BigImpact] TRUE\n\\item[RegVar] TRUE\n\\end{description*}\n",
            "text/markdown": "Distance\n:   TRUEMAF\n:   TRUECADD\n:   TRUEBigImpact\n:   TRUERegVar\n:   TRUE\n\n",
            "text/html": [
              "<dl class=dl-horizontal>\n",
              "\t<dt>Distance</dt>\n",
              "\t\t<dd>TRUE</dd>\n",
              "\t<dt>MAF</dt>\n",
              "\t\t<dd>TRUE</dd>\n",
              "\t<dt>CADD</dt>\n",
              "\t\t<dd>TRUE</dd>\n",
              "\t<dt>BigImpact</dt>\n",
              "\t\t<dd>TRUE</dd>\n",
              "\t<dt>RegVar</dt>\n",
              "\t\t<dd>TRUE</dd>\n",
              "</dl>\n"
            ]
          },
          "metadata": {
            "tags": []
          }
        }
      ]
    },
    {
      "cell_type": "markdown",
      "metadata": {
        "id": "2BEkjKGRMd2U",
        "colab_type": "text"
      },
      "source": [
        "Here we are gonna ficus only on regulatory variants"
      ]
    },
    {
      "cell_type": "code",
      "metadata": {
        "id": "RgeHOMsj8RhZ",
        "colab_type": "code",
        "outputId": "9d65c593-e9a8-49bb-fc77-5a7552130939",
        "colab": {
          "base_uri": "https://localhost:8080/",
          "height": 215
        }
      },
      "source": [
        "active(combinedFilters)[\"BigImpact\"] <- FALSE\n",
        "\n",
        "active(combinedFilters)[\"Distance\"] <- FALSE\n",
        "\n",
        "active(combinedFilters)[\"CADD\"] <- FALSE\n",
        "\n",
        "active(combinedFilters)"
      ],
      "execution_count": 0,
      "outputs": [
        {
          "output_type": "display_data",
          "data": {
            "text/plain": [
              " Distance       MAF      CADD BigImpact    RegVar \n",
              "    FALSE      TRUE     FALSE     FALSE      TRUE "
            ],
            "text/latex": "\\begin{description*}\n\\item[Distance] FALSE\n\\item[MAF] TRUE\n\\item[CADD] FALSE\n\\item[BigImpact] FALSE\n\\item[RegVar] TRUE\n\\end{description*}\n",
            "text/markdown": "Distance\n:   FALSEMAF\n:   TRUECADD\n:   FALSEBigImpact\n:   FALSERegVar\n:   TRUE\n\n",
            "text/html": [
              "<dl class=dl-horizontal>\n",
              "\t<dt>Distance</dt>\n",
              "\t\t<dd>FALSE</dd>\n",
              "\t<dt>MAF</dt>\n",
              "\t\t<dd>TRUE</dd>\n",
              "\t<dt>CADD</dt>\n",
              "\t\t<dd>FALSE</dd>\n",
              "\t<dt>BigImpact</dt>\n",
              "\t\t<dd>FALSE</dd>\n",
              "\t<dt>RegVar</dt>\n",
              "\t\t<dd>TRUE</dd>\n",
              "</dl>\n"
            ]
          },
          "metadata": {
            "tags": []
          }
        }
      ]
    },
    {
      "cell_type": "markdown",
      "metadata": {
        "id": "cLYAwOIV8Ws_",
        "colab_type": "text"
      },
      "source": [
        "#### Apply set of filters"
      ]
    },
    {
      "cell_type": "code",
      "metadata": {
        "id": "aBepEGyJ8WS0",
        "colab_type": "code",
        "outputId": "e1fe85c6-940f-420a-a4a8-38c69a97d414",
        "colab": {
          "base_uri": "https://localhost:8080/",
          "height": 320
        }
      },
      "source": [
        "vcf_filt <- subsetByFilter(vcf_het_cand, combinedFilters)\n",
        "#rowRanges(vcf_filt)\n",
        "csq_filt <- ensemblVEP::parseCSQToGRanges(x = vcf_filt)\n",
        "csq_filt %>% filter(BIOTYPE==\"protein_coding\")\n",
        "#vcf_filt"
      ],
      "execution_count": 0,
      "outputs": [
        {
          "output_type": "error",
          "ename": "ERROR",
          "evalue": "ignored",
          "traceback": [
            "Error in UseMethod(\"filter_\"): no applicable method for 'filter_' applied to an object of class \"c('GRanges', 'GenomicRanges', 'GRanges_OR_NULL', 'GRangesOrIRanges', 'Ranges', 'GenomicRanges_OR_missing', 'GenomicRanges_OR_GRangesList', 'GenomicRanges_OR_GenomicRangesList', 'List', 'Vector', 'list_OR_List', 'Annotated')\"\nTraceback:\n",
            "1. csq_filt %>% filter(BIOTYPE == \"protein_coding\")",
            "2. withVisible(eval(quote(`_fseq`(`_lhs`)), env, env))",
            "3. eval(quote(`_fseq`(`_lhs`)), env, env)",
            "4. eval(quote(`_fseq`(`_lhs`)), env, env)",
            "5. `_fseq`(`_lhs`)",
            "6. freduce(value, `_function_list`)",
            "7. withVisible(function_list[[k]](value))",
            "8. function_list[[k]](value)",
            "9. filter(., BIOTYPE == \"protein_coding\")",
            "10. filter.default(., BIOTYPE == \"protein_coding\")",
            "11. filter_(.data, .dots = compat_as_lazy_dots(...))"
          ]
        }
      ]
    },
    {
      "cell_type": "code",
      "metadata": {
        "id": "wsvLss7J8WQ6",
        "colab_type": "code",
        "outputId": "2e320ba4-b57b-4480-d4e9-27a73976fa7b",
        "colab": {
          "base_uri": "https://localhost:8080/",
          "height": 283
        }
      },
      "source": [
        "summary(evalSeparately(expr = combinedFilters, envir = vcf_het_cand))\n",
        "#as.data.frame(geno(vcf_rng)) %>% mutate(rsid=rownames(as.data.frame(geno(vcf_rng))))%>% filter(value %in% c(\"0|1\", \"1|1\"))\n",
        "\n",
        "\n",
        "#csq"
      ],
      "execution_count": 0,
      "outputs": [
        {
          "output_type": "display_data",
          "data": {
            "text/plain": [
              "<initial>  Distance       MAF      CADD BigImpact    RegVar   <final> \n",
              "        2         2         1         2         2         2         1 "
            ],
            "text/latex": "\\begin{description*}\n\\item[<initial>] 2\n\\item[Distance] 2\n\\item[MAF] 1\n\\item[CADD] 2\n\\item[BigImpact] 2\n\\item[RegVar] 2\n\\item[<final>] 1\n\\end{description*}\n",
            "text/markdown": "&amp;lt;initial&amp;gt;\n:   2Distance\n:   2MAF\n:   1CADD\n:   2BigImpact\n:   2RegVar\n:   2&amp;lt;final&amp;gt;\n:   1\n\n",
            "text/html": [
              "<dl class=dl-horizontal>\n",
              "\t<dt>&lt;initial&gt;</dt>\n",
              "\t\t<dd>2</dd>\n",
              "\t<dt>Distance</dt>\n",
              "\t\t<dd>2</dd>\n",
              "\t<dt>MAF</dt>\n",
              "\t\t<dd>1</dd>\n",
              "\t<dt>CADD</dt>\n",
              "\t\t<dd>2</dd>\n",
              "\t<dt>BigImpact</dt>\n",
              "\t\t<dd>2</dd>\n",
              "\t<dt>RegVar</dt>\n",
              "\t\t<dd>2</dd>\n",
              "\t<dt>&lt;final&gt;</dt>\n",
              "\t\t<dd>1</dd>\n",
              "</dl>\n"
            ]
          },
          "metadata": {
            "tags": []
          }
        }
      ]
    }
  ]
}